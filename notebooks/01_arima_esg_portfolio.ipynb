{
 "cells": [
  {
   "cell_type": "code",
   "execution_count": null,
   "metadata": {},
   "outputs": [],
   "source": [
    "%load_ext autoreload\n",
    "%autoreload 2\n",
    "import yaml, pandas as pd\n",
    "from src.data import load_cached_or_fetch, to_weekly_returns\n",
    "from src.esg import collect_esg_scores, normalize_esg\n",
    "from src.backtest import run_backtest\n",
    "from src.plots import plot_all\n",
    "\n",
    "with open(\"../config/settings.yaml\") as f:\n",
    "    CFG = yaml.safe_load(f)\n",
    "\n",
    "prices = load_cached_or_fetch(CFG)\n",
    "returns = to_weekly_returns(prices)\n",
    "esg = normalize_esg(collect_esg_scores(CFG[\"tickers\"], CFG[\"esg\"][\"source_priority\"]))\n",
    "bt = run_backtest(returns, esg, CFG)\n",
    "plot_all(bt, esg, CFG, returns)\n",
    "\n",
    "if CFG['outputs']['save_csv']:\n",
    "    bt['weights'].to_csv('../outputs/reports/portfolio_weights.csv')\n",
    "    bt['returns'].to_csv('../outputs/reports/portfolio_returns.csv')\n",
    "    print('Saved backtest results to ../outputs/reports/')"
   ]
  },
  {
   "cell_type": "markdown",
   "metadata": {},
   "source": [
    "# ARIMA + ESG Portfolio Optimization\n",
    "\n",
    "This notebook implements the complete workflow for the ARIMA+ESG portfolio optimization strategy."
   ]
  },
  {
   "cell_type": "markdown",
   "metadata": {},
   "source": [
    "## 1. Configuration & Imports\n",
    "\n",
    "The first cell loads all necessary libraries and the configuration from `config/settings.yaml`."
   ]
  },
  {
   "cell_type": "markdown",
   "metadata": {},
   "source": [
    "## 2. Download Weekly Prices\n",
    "\n",
    "The `load_cached_or_fetch` function from `src/data.py` is called to either load weekly prices from a local cache or download them using `yfinance`."
   ]
  },
  {
   "cell_type": "markdown",
   "metadata": {},
   "source": [
    "## 3. Compute Returns & Pull ESG Scores\n",
    "\n",
    "Weekly log returns are calculated, and ESG scores are fetched and normalized."
   ]
  },
  {
   "cell_type": "markdown",
   "metadata": {},
   "source": [
    "## 4. ARIMA Forecast\n",
    "\n",
    "This step is handled within the `run_backtest` function, which iteratively fits ARIMA models to forecast one-week-ahead returns."
   ]
  },
  {
   "cell_type": "markdown",
   "metadata": {},
   "source": [
    "## 5. Optimize Portfolio\n",
    "\n",
    "The `optimize_portfolio` function is called within the backtest loop to determine the optimal portfolio weights at each rebalancing period."
   ]
  },
  {
   "cell_type": "markdown",
   "metadata": {},
   "source": [
    "## 6. Run Rolling Backtest\n",
    "\n",
    "The `run_backtest` function orchestrates the entire rolling backtest process."
   ]
  },
  {
   "cell_type": "markdown",
   "metadata": {},
   "source": [
    "## 7. Plotly Outputs\n",
    "\n",
    "The `plot_all` function generates and displays the interactive Plotly visualizations."
   ]
  },
  {
   "cell_type": "markdown",
   "metadata": {},
   "source": [
    "## 8. Save CSVs and HTML Plots\n",
    "\n",
    "The notebook saves the backtest results (weights and returns) as CSV files and the plots as HTML files in the `outputs/` directory."
   ]
  }
 ],
 "metadata": {
  "kernelspec": {
   "display_name": "Python 3",
   "language": "python",
   "name": "python3"
  },
  "language_info": {
   "codemirror_mode": {
    "name": "ipython",
    "version": 3
   },
   "file_extension": ".py",
   "mimetype": "text/x-python",
   "name": "python",
   "nbconvert_exporter": "python",
   "pygments_lexer": "ipython3",
   "version": "3.10.9"
  }
 },
 "nbformat": 4,
 "nbformat_minor": 4
}
