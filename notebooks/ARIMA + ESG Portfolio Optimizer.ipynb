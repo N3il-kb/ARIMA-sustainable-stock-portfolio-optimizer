{
 "cells": [
  {
   "cell_type": "markdown",
   "metadata": {},
   "source": [
    "# ARIMA + ESG Portfolio Optimizer\n",
    "\n",
    "This notebook demonstrates how to forecast monthly stock returns with ARIMA models and construct an ESG-aware portfolio using mean-variance optimization with a soft ESG tilt."
   ]
  },
  {
   "cell_type": "markdown",
   "metadata": {},
   "source": [
    "## 1\ufe0f\u20e3 Import Libraries\n",
    "\n",
    "We begin by loading the lightweight libraries required for data handling, forecasting, and optimization."
   ]
  },
  {
   "cell_type": "code",
   "metadata": {
    "collapsed": false
   },
   "execution_count": null,
   "outputs": [],
   "source": [
    "# Import core numerical and data manipulation libraries\n",
    "import pandas as pd\n",
    "import numpy as np\n",
    "\n",
    "# Visualization\n",
    "import matplotlib.pyplot as plt\n",
    "\n",
    "# Data acquisition for historical prices and ESG information\n",
    "import yfinance as yf\n",
    "\n",
    "# ARIMA modeling for time series forecasting\n",
    "from pmdarima import auto_arima\n",
    "\n",
    "# Optimization tools for portfolio construction\n",
    "from scipy.optimize import minimize\n",
    "\n",
    "# Configure matplotlib aesthetics for clearer plots\n",
    "plt.style.use('seaborn-v0_8-darkgrid')"
   ]
  },
  {
   "cell_type": "markdown",
   "metadata": {},
   "source": [
    "## 2\ufe0f\u20e3 Data Setup\n",
    "\n",
    "Download five years of monthly adjusted close prices for a diversified list of large-cap stocks and compute monthly percentage returns."
   ]
  },
  {
   "cell_type": "code",
   "metadata": {},
   "execution_count": null,
   "outputs": [],
   "source": [
    "# Define the investment universe and data parameters\n",
    "tickers = ['AAPL', 'MSFT', 'GOOGL', 'AMZN', 'META', 'TSLA', 'NVDA', 'JPM', 'UNH', 'PG']\n",
    "start_period = '5y'\n",
    "price_interval = '1mo'\n",
    "\n",
    "# Download monthly adjusted close prices from Yahoo Finance\n",
    "data = yf.download(tickers, period=start_period, interval=price_interval, auto_adjust=False)['Adj Close']\n",
    "\n",
    "# Clean the data: drop rows with all missing values and ensure chronological order\n",
    "data = data.dropna(how='all').sort_index()\n",
    "\n",
    "# Compute monthly percentage returns\n",
    "returns = data.pct_change().dropna(how='all')\n",
    "\n",
    "# Display the first few rows for inspection\n",
    "returns.head()"
   ]
  },
  {
   "cell_type": "markdown",
   "metadata": {},
   "source": [
    "## 3\ufe0f\u20e3 ESG Scores\n",
    "\n",
    "Retrieve ESG scores from Yahoo Finance where available. If the data cannot be retrieved (e.g., due to missing coverage), fall back to predefined mock scores on a 0\u2013100 scale."
   ]
  },
  {
   "cell_type": "code",
   "metadata": {},
   "execution_count": null,
   "outputs": [],
   "source": [
    "# Attempt to fetch sustainability scores from Yahoo Finance; fall back to manual values when necessary\n",
    "def fetch_esg_scores(ticker_list):\n",
    "    esg_values = {}\n",
    "    for ticker in ticker_list:\n",
    "        try:\n",
    "            sustainability = yf.Ticker(ticker).sustainability\n",
    "            if sustainability is not None and 'totalEsg' in sustainability.index:\n",
    "                score = sustainability.loc['totalEsg'].iloc[0]\n",
    "                # Yahoo Finance returns ESG risk (lower is better). Convert to a 0-100 score.\n",
    "                # We map risk scores (roughly 0-50) to an ESG score where lower risk => higher ESG score.\n",
    "                if pd.notnull(score):\n",
    "                    esg_values[ticker] = max(0, min(100, 100 - score))\n",
    "                    continue\n",
    "        except Exception:\n",
    "            pass\n",
    "    return esg_values\n",
    "\n",
    "fetched_esg = fetch_esg_scores(tickers)\n",
    "\n",
    "# Provide fallback ESG scores for tickers without available data\n",
    "fallback_esg = {\n",
    "    'AAPL': 72,\n",
    "    'MSFT': 83,\n",
    "    'GOOGL': 78,\n",
    "    'AMZN': 65,\n",
    "    'META': 60,\n",
    "    'TSLA': 55,\n",
    "    'NVDA': 68,\n",
    "    'JPM': 58,\n",
    "    'UNH': 70,\n",
    "    'PG': 82,\n",
    "}\n",
    "\n",
    "# Merge fetched and fallback scores, prioritizing fetched values\n",
    "esg_scores = {ticker: fetched_esg.get(ticker, fallback_esg[ticker]) for ticker in tickers}\n",
    "esg_df = pd.DataFrame.from_dict(esg_scores, orient='index', columns=['ESG_Score'])\n",
    "esg_df"
   ]
  },
  {
   "cell_type": "markdown",
   "metadata": {},
   "source": [
    "## 4\ufe0f\u20e3 ARIMA Forecasts\n",
    "\n",
    "Fit automatic ARIMA models to each stock's monthly return series to forecast next month's expected return."
   ]
  },
  {
   "cell_type": "code",
   "metadata": {},
   "execution_count": null,
   "outputs": [],
   "source": [
    "# Fit an ARIMA model per ticker to forecast the next period return\n",
    "forecast_means = {}\n",
    "arima_models = {}\n",
    "\n",
    "for ticker in tickers:\n",
    "    series = returns[ticker].dropna()\n",
    "    if len(series) < 12:\n",
    "        # Not enough data to fit ARIMA; assume zero expected return\n",
    "        forecast_means[ticker] = 0.0\n",
    "        arima_models[ticker] = None\n",
    "        continue\n",
    "\n",
    "    model = auto_arima(\n",
    "        series,\n",
    "        seasonal=False,\n",
    "        stepwise=True,\n",
    "        suppress_warnings=True,\n",
    "        error_action='ignore',\n",
    "        trace=False\n",
    "    )\n",
    "\n",
    "    forecast = model.predict(n_periods=1)[0]\n",
    "    forecast_means[ticker] = forecast\n",
    "    arima_models[ticker] = model\n",
    "\n",
    "forecast_series = pd.Series(forecast_means)\n",
    "forecast_series"
   ]
  },
  {
   "cell_type": "markdown",
   "metadata": {},
   "source": [
    "## 5\ufe0f\u20e3 Mean-Variance Optimization with ESG Tilt\n",
    "\n",
    "Construct a portfolio that balances expected return, risk, and ESG exposure. The objective maximizes expected return while penalizing variance and rewarding higher ESG scores."
   ]
  },
  {
   "cell_type": "code",
   "metadata": {},
   "execution_count": null,
   "outputs": [],
   "source": [
    "# Compute the historical covariance matrix of returns\n",
    "cov_matrix = returns.cov()\n",
    "\n",
    "# Define optimization hyperparameters\n",
    "risk_aversion = 0.5  # \u03bb parameter balancing return vs. risk\n",
    "esg_penalty = 0.3    # \u03b1 parameter controlling ESG tilt strength\n",
    "\n",
    "# Convert data to aligned numpy arrays\n",
    "mu = forecast_series.loc[tickers].values\n",
    "esg_array = esg_df.loc[tickers, 'ESG_Score'].values / 100\n",
    "\n",
    "# Objective function for minimization (negative of the utility expression)\n",
    "def portfolio_objective(weights):\n",
    "    weights = np.array(weights)\n",
    "    portfolio_return = np.dot(weights, mu)\n",
    "    portfolio_variance = np.dot(weights, cov_matrix @ weights)\n",
    "    esg_bonus = np.dot(weights, esg_array)\n",
    "    utility = portfolio_return - risk_aversion * portfolio_variance - esg_penalty * esg_bonus\n",
    "    return -utility\n",
    "\n",
    "# Constraints: weights sum to 1\n",
    "constraints = ({'type': 'eq', 'fun': lambda w: np.sum(w) - 1})\n",
    "\n",
    "# Bounds: no short selling (weights between 0 and 1)\n",
    "bounds = [(0.0, 1.0) for _ in tickers]\n",
    "\n",
    "# Initial guess: equal weights\n",
    "initial_weights = np.repeat(1 / len(tickers), len(tickers))\n",
    "\n",
    "# Run the optimization\n",
    "optimization_result = minimize(\n",
    "    portfolio_objective,\n",
    "    initial_weights,\n",
    "    method='SLSQP',\n",
    "    bounds=bounds,\n",
    "    constraints=constraints\n",
    ")\n",
    "\n",
    "if not optimization_result.success:\n",
    "    raise RuntimeError(f\"Optimization failed: {optimization_result.message}\")\n",
    "\n",
    "optimal_weights = optimization_result.x\n",
    "optimal_weights"
   ]
  },
  {
   "cell_type": "markdown",
   "metadata": {},
   "source": [
    "## 6\ufe0f\u20e3 Results\n",
    "\n",
    "Summarize the optimized portfolio and visualize the allocation. Forecasted returns are shown alongside ESG scores and the resulting weights."
   ]
  },
  {
   "cell_type": "code",
   "metadata": {},
   "execution_count": null,
   "outputs": [],
   "source": [
    "# Compile results into a summary DataFrame\n",
    "summary_df = pd.DataFrame({\n",
    "    'Ticker': tickers,\n",
    "    'ESG_Score': esg_df.loc[tickers, 'ESG_Score'].values,\n",
    "    'Forecasted_Return': forecast_series.loc[tickers].values,\n",
    "    'Optimal_Weight': optimal_weights,\n",
    "})\n",
    "\n",
    "summary_df"
   ]
  },
  {
   "cell_type": "code",
   "metadata": {},
   "execution_count": null,
   "outputs": [],
   "source": [
    "# Plot bar chart of optimal weights\n",
    "fig, ax = plt.subplots(figsize=(10, 5))\n",
    "ax.bar(summary_df['Ticker'], summary_df['Optimal_Weight'], color='steelblue')\n",
    "ax.set_title('Optimal Portfolio Weights')\n",
    "ax.set_xlabel('Ticker')\n",
    "ax.set_ylabel('Weight')\n",
    "ax.set_ylim(0, summary_df['Optimal_Weight'].max() * 1.2)\n",
    "plt.xticks(rotation=45)\n",
    "plt.tight_layout()\n",
    "plt.show()"
   ]
  },
  {
   "cell_type": "code",
   "metadata": {},
   "execution_count": null,
   "outputs": [],
   "source": [
    "# Plot pie chart of weight allocation\n",
    "fig, ax = plt.subplots(figsize=(8, 8))\n",
    "ax.pie(summary_df['Optimal_Weight'], labels=summary_df['Ticker'], autopct='%1.1f%%', startangle=140)\n",
    "ax.set_title('Portfolio Allocation by Weight')\n",
    "plt.show()"
   ]
  },
  {
   "cell_type": "code",
   "metadata": {},
   "execution_count": null,
   "outputs": [],
   "source": [
    "# Optionally visualize historical returns and ARIMA forecast for a subset of tickers\n",
    "example_tickers = tickers[:3]\n",
    "months_to_plot = 36\n",
    "\n",
    "fig, axes = plt.subplots(len(example_tickers), 1, figsize=(10, 8), sharex=True)\n",
    "\n",
    "for ax, ticker in zip(axes, example_tickers):\n",
    "    series = returns[ticker].dropna()\n",
    "    plot_series = series.tail(months_to_plot)\n",
    "    ax.plot(plot_series.index, plot_series.values, label='Historical Returns', marker='o')\n",
    "    if arima_models[ticker] is not None:\n",
    "        forecast_value = forecast_series.loc[ticker]\n",
    "        ax.axhline(forecast_value, color='red', linestyle='--', label='Forecasted Return')\n",
    "    ax.set_title(f\"{ticker} Monthly Returns\")\n",
    "    ax.set_ylabel('Return')\n",
    "    ax.legend()\n",
    "\n",
    "plt.xlabel('Date')\n",
    "plt.tight_layout()\n",
    "plt.show()"
   ]
  },
  {
   "cell_type": "markdown",
   "metadata": {},
   "source": [
    "## 7\ufe0f\u20e3 Conclusion\n",
    "\n",
    "The optimizer combines ARIMA-based return forecasts with mean-variance optimization and an ESG tilt. High-ESG companies receive a larger weight allocation when expected returns and risk are comparable, resulting in a portfolio that balances financial performance with sustainability considerations."
   ]
  }
 ],
 "metadata": {
  "kernelspec": {
   "display_name": "Python 3",
   "language": "python",
   "name": "python3"
  },
  "language_info": {
   "name": "python",
   "version": "3.11"
  }
 },
 "nbformat": 4,
 "nbformat_minor": 5
}